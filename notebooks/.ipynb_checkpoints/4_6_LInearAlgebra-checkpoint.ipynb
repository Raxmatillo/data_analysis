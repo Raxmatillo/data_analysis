{
 "cells": [
  {
   "cell_type": "markdown",
   "id": "7ddd2419-09f6-441b-9170-8afa2450b841",
   "metadata": {},
   "source": [
    "# Linear Algebra"
   ]
  },
  {
   "cell_type": "code",
   "execution_count": 1,
   "id": "171e0278-b59a-448f-972e-a4d5f4af5c68",
   "metadata": {},
   "outputs": [],
   "source": [
    "import numpy as np"
   ]
  },
  {
   "cell_type": "code",
   "execution_count": 4,
   "id": "9b3e6f01-a4f0-4894-9715-96b935a223cd",
   "metadata": {},
   "outputs": [
    {
     "data": {
      "text/plain": [
       "array([[1., 2., 3.],\n",
       "       [4., 5., 6.]])"
      ]
     },
     "execution_count": 4,
     "metadata": {},
     "output_type": "execute_result"
    }
   ],
   "source": [
    "x = np.array([[1., 2., 3.], [4., 5., 6.]])\n",
    "y = np.array([[6., 23.], [-1, 7], [8, 9]])\n",
    "x"
   ]
  },
  {
   "cell_type": "code",
   "execution_count": 5,
   "id": "4aeda318-a28d-4f26-a95b-fdfacfb7d800",
   "metadata": {},
   "outputs": [
    {
     "data": {
      "text/plain": [
       "array([[ 6., 23.],\n",
       "       [-1.,  7.],\n",
       "       [ 8.,  9.]])"
      ]
     },
     "execution_count": 5,
     "metadata": {},
     "output_type": "execute_result"
    }
   ],
   "source": [
    "y"
   ]
  },
  {
   "cell_type": "code",
   "execution_count": 6,
   "id": "6acee5c4-953b-482a-9c79-deb89d9314ef",
   "metadata": {},
   "outputs": [
    {
     "data": {
      "text/plain": [
       "array([[ 28.,  64.],\n",
       "       [ 67., 181.]])"
      ]
     },
     "execution_count": 6,
     "metadata": {},
     "output_type": "execute_result"
    }
   ],
   "source": [
    "x.dot(y)"
   ]
  },
  {
   "cell_type": "code",
   "execution_count": 7,
   "id": "15976683-c8a5-4042-801c-0e222679d693",
   "metadata": {},
   "outputs": [
    {
     "data": {
      "text/plain": [
       "array([[ 28.,  64.],\n",
       "       [ 67., 181.]])"
      ]
     },
     "execution_count": 7,
     "metadata": {},
     "output_type": "execute_result"
    }
   ],
   "source": [
    "x@y"
   ]
  },
  {
   "cell_type": "code",
   "execution_count": 8,
   "id": "e53eb559-5c7d-447d-ba74-dcdfb40e4c6e",
   "metadata": {},
   "outputs": [
    {
     "data": {
      "text/plain": [
       "array([[ 28.,  64.],\n",
       "       [ 67., 181.]])"
      ]
     },
     "execution_count": 8,
     "metadata": {},
     "output_type": "execute_result"
    }
   ],
   "source": [
    "np.dot(x, y)"
   ]
  },
  {
   "cell_type": "code",
   "execution_count": 9,
   "id": "428b0212-2c40-463f-8faf-875203705680",
   "metadata": {},
   "outputs": [
    {
     "data": {
      "text/plain": [
       "array([ 6., 15.])"
      ]
     },
     "execution_count": 9,
     "metadata": {},
     "output_type": "execute_result"
    }
   ],
   "source": [
    "x@np.ones(3)"
   ]
  },
  {
   "cell_type": "code",
   "execution_count": 10,
   "id": "2497051a-ebeb-4249-830f-71f5d80f2166",
   "metadata": {},
   "outputs": [],
   "source": [
    "from numpy.linalg import inv, qr"
   ]
  },
  {
   "cell_type": "code",
   "execution_count": 11,
   "id": "d4257b1d-806e-4cf8-be93-62378d27af16",
   "metadata": {},
   "outputs": [
    {
     "data": {
      "text/plain": [
       "array([[ 3.43388551,  2.95286937,  0.56607467,  1.96709642, -2.93206195],\n",
       "       [ 2.95286937,  2.76687767,  0.37843531,  1.80174545, -2.61129405],\n",
       "       [ 0.56607467,  0.37843531,  0.52236314, -0.07815292, -0.25654606],\n",
       "       [ 1.96709642,  1.80174545, -0.07815292,  2.04114577, -2.19375086],\n",
       "       [-2.93206195, -2.61129405, -0.25654606, -2.19375086,  2.91485179]])"
      ]
     },
     "execution_count": 11,
     "metadata": {},
     "output_type": "execute_result"
    }
   ],
   "source": [
    "X = np.random.standard_normal((5, 5))\n",
    "mat = X.T@X\n",
    "inv(mat)"
   ]
  },
  {
   "cell_type": "code",
   "execution_count": 12,
   "id": "c35c9a49-003e-4051-ba15-c7704bf90f65",
   "metadata": {},
   "outputs": [
    {
     "data": {
      "text/plain": [
       "array([[ 1.00000000e+00,  2.61480421e-16,  8.58120774e-18,\n",
       "        -1.23022525e-15, -2.73665407e-15],\n",
       "       [-4.46410363e-16,  1.00000000e+00,  1.12644844e-16,\n",
       "         6.83921495e-16, -5.07916840e-16],\n",
       "       [-9.59277562e-17, -1.52706696e-15,  1.00000000e+00,\n",
       "         4.86873595e-16,  1.81771478e-16],\n",
       "       [ 9.76157555e-16, -6.01360419e-16,  1.77556330e-16,\n",
       "         1.00000000e+00, -6.90903657e-16],\n",
       "       [ 2.17266423e-15,  2.32016934e-16,  1.86288020e-16,\n",
       "         1.58886843e-15,  1.00000000e+00]])"
      ]
     },
     "execution_count": 12,
     "metadata": {},
     "output_type": "execute_result"
    }
   ],
   "source": [
    "mat@inv(mat)"
   ]
  },
  {
   "cell_type": "code",
   "execution_count": null,
   "id": "f377a329-4ec4-4c4e-9b14-78452eed2b15",
   "metadata": {},
   "outputs": [],
   "source": []
  }
 ],
 "metadata": {
  "kernelspec": {
   "display_name": "Python (venv)",
   "language": "python",
   "name": "venv"
  },
  "language_info": {
   "codemirror_mode": {
    "name": "ipython",
    "version": 3
   },
   "file_extension": ".py",
   "mimetype": "text/x-python",
   "name": "python",
   "nbconvert_exporter": "python",
   "pygments_lexer": "ipython3",
   "version": "3.10.11"
  }
 },
 "nbformat": 4,
 "nbformat_minor": 5
}
