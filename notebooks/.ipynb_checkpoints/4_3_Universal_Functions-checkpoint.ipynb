{
 "cells": [
  {
   "cell_type": "markdown",
   "id": "0e0f1ee1-b9e4-47b5-9eed-715f7f0776cc",
   "metadata": {},
   "source": [
    "# 4.3 Universal Functions: Fast Element-Wise Array Functions"
   ]
  },
  {
   "cell_type": "code",
   "execution_count": 2,
   "id": "3d3f0f25-df0c-4251-bb1f-4ad89af02dc2",
   "metadata": {},
   "outputs": [],
   "source": [
    "import numpy as np"
   ]
  },
  {
   "cell_type": "code",
   "execution_count": 4,
   "id": "d905fb9c-e5a2-477c-8e6a-923430e328e5",
   "metadata": {},
   "outputs": [
    {
     "data": {
      "text/plain": [
       "array([0, 1, 2, 3, 4, 5, 6, 7, 8, 9])"
      ]
     },
     "execution_count": 4,
     "metadata": {},
     "output_type": "execute_result"
    }
   ],
   "source": [
    "arr = np.arange(10)\n",
    "arr"
   ]
  },
  {
   "cell_type": "code",
   "execution_count": 5,
   "id": "72b78259-3872-4449-a5c9-55808ff5dd2f",
   "metadata": {},
   "outputs": [
    {
     "data": {
      "text/plain": [
       "array([0.        , 1.        , 1.41421356, 1.73205081, 2.        ,\n",
       "       2.23606798, 2.44948974, 2.64575131, 2.82842712, 3.        ])"
      ]
     },
     "execution_count": 5,
     "metadata": {},
     "output_type": "execute_result"
    }
   ],
   "source": [
    "np.sqrt(arr)"
   ]
  },
  {
   "cell_type": "code",
   "execution_count": 6,
   "id": "e23b45d6-468a-4d3b-80d3-14ede898f99d",
   "metadata": {},
   "outputs": [
    {
     "data": {
      "text/plain": [
       "array([1.00000000e+00, 2.71828183e+00, 7.38905610e+00, 2.00855369e+01,\n",
       "       5.45981500e+01, 1.48413159e+02, 4.03428793e+02, 1.09663316e+03,\n",
       "       2.98095799e+03, 8.10308393e+03])"
      ]
     },
     "execution_count": 6,
     "metadata": {},
     "output_type": "execute_result"
    }
   ],
   "source": [
    "np.exp(arr)"
   ]
  },
  {
   "cell_type": "code",
   "execution_count": 10,
   "id": "c4cd6535-9836-491e-9464-5452430a9248",
   "metadata": {},
   "outputs": [],
   "source": [
    "x = np.random.standard_normal(8)\n",
    "y = np.random.standard_normal(8)"
   ]
  },
  {
   "cell_type": "code",
   "execution_count": 11,
   "id": "0d636ae2-d33b-4c83-903d-7b305821cea7",
   "metadata": {},
   "outputs": [
    {
     "data": {
      "text/plain": [
       "array([-0.37792464,  0.53169679, -0.15285046,  0.29563743,  1.48477239,\n",
       "        0.78736079,  1.06384683, -1.14076263])"
      ]
     },
     "execution_count": 11,
     "metadata": {},
     "output_type": "execute_result"
    }
   ],
   "source": [
    "x"
   ]
  },
  {
   "cell_type": "code",
   "execution_count": 12,
   "id": "2c146712-a35e-4005-9361-25506c2ea439",
   "metadata": {},
   "outputs": [
    {
     "data": {
      "text/plain": [
       "array([-0.47753448,  0.54028262,  0.39141703, -0.18207725,  1.52091683,\n",
       "       -0.09232875, -0.59447519,  0.10819796])"
      ]
     },
     "execution_count": 12,
     "metadata": {},
     "output_type": "execute_result"
    }
   ],
   "source": [
    "y"
   ]
  },
  {
   "cell_type": "code",
   "execution_count": 13,
   "id": "64a4215d-3d5d-4007-9fe9-74c43ba0d2da",
   "metadata": {},
   "outputs": [
    {
     "data": {
      "text/plain": [
       "array([-0.37792464,  0.54028262,  0.39141703,  0.29563743,  1.52091683,\n",
       "        0.78736079,  1.06384683,  0.10819796])"
      ]
     },
     "execution_count": 13,
     "metadata": {},
     "output_type": "execute_result"
    }
   ],
   "source": [
    "np.maximum(x, y)"
   ]
  },
  {
   "cell_type": "code",
   "execution_count": 14,
   "id": "3aaa7f3b-3d58-4a9f-89ea-a62d2035eae7",
   "metadata": {},
   "outputs": [
    {
     "data": {
      "text/plain": [
       "array([-3.8349561 , -5.08220857, -0.78262639, -2.65497736, -0.52478238,\n",
       "        3.87377657,  0.92122984])"
      ]
     },
     "execution_count": 14,
     "metadata": {},
     "output_type": "execute_result"
    }
   ],
   "source": [
    "arr = np.random.standard_normal(7)*5\n",
    "arr"
   ]
  },
  {
   "cell_type": "code",
   "execution_count": 15,
   "id": "682640d3-5ba7-4233-9cb5-6279c2a1a98f",
   "metadata": {},
   "outputs": [],
   "source": [
    "remainder, whole_part = np.modf(arr)"
   ]
  },
  {
   "cell_type": "code",
   "execution_count": 16,
   "id": "b816535e-02ae-44f8-b8c0-97e6c18e90b6",
   "metadata": {},
   "outputs": [
    {
     "data": {
      "text/plain": [
       "array([-0.8349561 , -0.08220857, -0.78262639, -0.65497736, -0.52478238,\n",
       "        0.87377657,  0.92122984])"
      ]
     },
     "execution_count": 16,
     "metadata": {},
     "output_type": "execute_result"
    }
   ],
   "source": [
    "remainder"
   ]
  },
  {
   "cell_type": "code",
   "execution_count": 17,
   "id": "34f0a6b1-51d4-4d59-bcc5-b4118b77d96b",
   "metadata": {},
   "outputs": [
    {
     "data": {
      "text/plain": [
       "array([-3., -5., -0., -2., -0.,  3.,  0.])"
      ]
     },
     "execution_count": 17,
     "metadata": {},
     "output_type": "execute_result"
    }
   ],
   "source": [
    "whole_part"
   ]
  },
  {
   "cell_type": "code",
   "execution_count": 18,
   "id": "be04a02b-3f1b-40d7-90e8-acd1438ee1a1",
   "metadata": {},
   "outputs": [
    {
     "data": {
      "text/plain": [
       "array([-3.8349561 , -5.08220857, -0.78262639, -2.65497736, -0.52478238,\n",
       "        3.87377657,  0.92122984])"
      ]
     },
     "execution_count": 18,
     "metadata": {},
     "output_type": "execute_result"
    }
   ],
   "source": [
    "arr"
   ]
  },
  {
   "cell_type": "code",
   "execution_count": 19,
   "id": "a41f5135-182b-45bf-ba37-e7e33f1c5738",
   "metadata": {},
   "outputs": [],
   "source": [
    "out = np.zeros_like(arr)"
   ]
  },
  {
   "cell_type": "code",
   "execution_count": 21,
   "id": "088f7029-6560-43c2-aba5-0ff7bf805ad0",
   "metadata": {},
   "outputs": [
    {
     "data": {
      "text/plain": [
       "array([-2.8349561 , -4.08220857,  0.21737361, -1.65497736,  0.47521762,\n",
       "        4.87377657,  1.92122984])"
      ]
     },
     "execution_count": 21,
     "metadata": {},
     "output_type": "execute_result"
    }
   ],
   "source": [
    "np.add(arr, 1)"
   ]
  },
  {
   "cell_type": "code",
   "execution_count": 23,
   "id": "6c74755c-24e7-466f-9934-0fd7b96d427c",
   "metadata": {},
   "outputs": [
    {
     "data": {
      "text/plain": [
       "array([-2.8349561 , -4.08220857,  0.21737361, -1.65497736,  0.47521762,\n",
       "        4.87377657,  1.92122984])"
      ]
     },
     "execution_count": 23,
     "metadata": {},
     "output_type": "execute_result"
    }
   ],
   "source": [
    "np.add(arr, 1, out=out)"
   ]
  },
  {
   "cell_type": "code",
   "execution_count": 24,
   "id": "591caf38-b985-475e-9057-afd678e0408b",
   "metadata": {},
   "outputs": [
    {
     "data": {
      "text/plain": [
       "array([-2.8349561 , -4.08220857,  0.21737361, -1.65497736,  0.47521762,\n",
       "        4.87377657,  1.92122984])"
      ]
     },
     "execution_count": 24,
     "metadata": {},
     "output_type": "execute_result"
    }
   ],
   "source": [
    "out"
   ]
  },
  {
   "cell_type": "markdown",
   "id": "30debd67-7a7c-4b1f-872f-0d05efe9cd7f",
   "metadata": {},
   "source": [
    "<table>\n",
    "    <caption>Function Descriptions</caption>\n",
    "    <thead>\n",
    "        <tr>\n",
    "            <th>Function</th>\n",
    "            <th>Description</th>\n",
    "        </tr>\n",
    "    </thead>\n",
    "    <tbody>\n",
    "        <tr>\n",
    "            <td>abs, fabs</td>\n",
    "            <td>Compute the absolute value element-wise for integer, floating-point, or complex values</td>\n",
    "        </tr>\n",
    "        <tr>\n",
    "            <td>sqrt</td>\n",
    "            <td>Compute the square root of each element (equivalent to arr ** 0.5)</td>\n",
    "        </tr>\n",
    "        <tr>\n",
    "            <td>square</td>\n",
    "            <td>Compute the square of each element (equivalent to arr ** 2)</td>\n",
    "        </tr>\n",
    "        <tr>\n",
    "            <td>exp</td>\n",
    "            <td>Compute the exponent ex of each element</td>\n",
    "        </tr>\n",
    "        <tr>\n",
    "            <td>log, log10, log2, log1p</td>\n",
    "            <td>Natural logarithm (base e), log base 10, log base 2, and log(1 + x), respectively</td>\n",
    "        </tr>\n",
    "        <tr>\n",
    "            <td>sign</td>\n",
    "            <td>Compute the sign of each element: 1 (positive), 0 (zero), or –1 (negative)</td>\n",
    "        </tr>\n",
    "        <tr>\n",
    "            <td>ceil</td>\n",
    "            <td>Compute the ceiling of each element (i.e., the smallest integer greater than or equal to that number)</td>\n",
    "        </tr>\n",
    "        <tr>\n",
    "            <td>floor</td>\n",
    "            <td>Compute the floor of each element (i.e., the largest integer less than or equal to each element)</td>\n",
    "        </tr>\n",
    "        <tr>\n",
    "            <td>rint</td>\n",
    "            <td>Round elements to the nearest integer, preserving the dtype</td>\n",
    "        </tr>\n",
    "        <tr>\n",
    "            <td>modf</td>\n",
    "            <td>Return fractional and integral parts of array as separate arrays</td>\n",
    "        </tr>\n",
    "        <tr>\n",
    "            <td>isnan</td>\n",
    "            <td>Return Boolean array indicating whether each value is NaN (Not a Number)</td>\n",
    "        </tr>\n",
    "        <tr>\n",
    "            <td>isfinite, isinf</td>\n",
    "            <td>Return Boolean array indicating whether each element is finite (non-inf, non-NaN) or infinite, respectively</td>\n",
    "        </tr>\n",
    "        <tr>\n",
    "            <td>cos, cosh, sin, sinh, tan, tanh</td>\n",
    "            <td>Regular and hyperbolic trigonometric functions</td>\n",
    "        </tr>\n",
    "        <tr>\n",
    "            <td>arccos, arccosh, arcsin, arcsinh, arctan, arctanh</td>\n",
    "            <td>Inverse trigonometric functions</td>\n",
    "        </tr>\n",
    "        <tr>\n",
    "            <td>logical_not</td>\n",
    "            <td>Compute truth value of not x element-wise (equivalent to ~arr)</td>\n",
    "        </tr>\n",
    "    </tbody>\n",
    "</table>"
   ]
  }
 ],
 "metadata": {
  "kernelspec": {
   "display_name": "Python (venv)",
   "language": "python",
   "name": "venv"
  },
  "language_info": {
   "codemirror_mode": {
    "name": "ipython",
    "version": 3
   },
   "file_extension": ".py",
   "mimetype": "text/x-python",
   "name": "python",
   "nbconvert_exporter": "python",
   "pygments_lexer": "ipython3",
   "version": "3.10.11"
  }
 },
 "nbformat": 4,
 "nbformat_minor": 5
}
