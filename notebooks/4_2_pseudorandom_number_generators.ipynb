{
 "cells": [
  {
   "cell_type": "markdown",
   "id": "13ac9930-1c93-45fd-a6cc-491d5f509d4a",
   "metadata": {},
   "source": [
    "# 4.2 Pseudorandom Number Generation"
   ]
  },
  {
   "cell_type": "code",
   "execution_count": 2,
   "id": "62a2010a-919b-4622-9e73-f8152f1f7d16",
   "metadata": {},
   "outputs": [
    {
     "data": {
      "text/plain": [
       "array([[ 0.79665049,  0.18098091,  2.00882266, -0.8469376 ],\n",
       "       [ 1.61460237, -0.43719237,  1.69698893, -0.70300293],\n",
       "       [-1.37630404, -1.53917305, -0.13942458,  0.33759515],\n",
       "       [ 0.11799655,  1.42937819,  1.48641746,  0.99813833]])"
      ]
     },
     "execution_count": 2,
     "metadata": {},
     "output_type": "execute_result"
    }
   ],
   "source": [
    "import numpy as np\n",
    "\n",
    "samples = np.random.standard_normal(size=(4, 4))\n",
    "samples"
   ]
  },
  {
   "cell_type": "code",
   "execution_count": 4,
   "id": "8535437f-2d4f-4f30-aac5-40a86da56372",
   "metadata": {},
   "outputs": [
    {
     "name": "stdout",
     "output_type": "stream",
     "text": [
      "2.2 s ± 21.7 ms per loop (mean ± std. dev. of 7 runs, 1 loop each)\n"
     ]
    }
   ],
   "source": [
    "from random import normalvariate\n",
    "\n",
    "N = 1_000_000\n",
    "\n",
    "%timeit samples = [normalvariate(0, 1) for _ in range(N)]"
   ]
  },
  {
   "cell_type": "code",
   "execution_count": 6,
   "id": "37471935-629e-41dc-98c1-99a8b6c82a0e",
   "metadata": {},
   "outputs": [
    {
     "name": "stdout",
     "output_type": "stream",
     "text": [
      "65.1 ms ± 734 μs per loop (mean ± std. dev. of 7 runs, 10 loops each)\n"
     ]
    }
   ],
   "source": [
    "%timeit np.random.standard_normal(N)"
   ]
  },
  {
   "cell_type": "code",
   "execution_count": 7,
   "id": "5c992007-2c38-4d37-a62b-41e0de3a8025",
   "metadata": {},
   "outputs": [],
   "source": [
    "rng = np.random.default_rng(seed=12345)\n",
    "data = rng.standard_normal((2, 3))"
   ]
  },
  {
   "cell_type": "code",
   "execution_count": 8,
   "id": "eb77afca-cfb4-4264-965a-2c83430e187b",
   "metadata": {},
   "outputs": [
    {
     "data": {
      "text/plain": [
       "numpy.random._generator.Generator"
      ]
     },
     "execution_count": 8,
     "metadata": {},
     "output_type": "execute_result"
    }
   ],
   "source": [
    "type(rng)"
   ]
  },
  {
   "cell_type": "markdown",
   "id": "ab49ea64-8517-49bb-9238-9ecfc091e44e",
   "metadata": {},
   "source": [
    "<table>\n",
    "    <thead>\n",
    "        <th>Method</th>\n",
    "        <th>Description</th>\n",
    "    </thead>\n",
    "    <tbody>\n",
    "        <tr>\n",
    "            <td>permutation</td>\n",
    "            <td>Return a random permutation of a sequence, or return a permuted range</td>\n",
    "        </tr>\n",
    "        <tr>\n",
    "            <td>shuffle</td>\n",
    "            <td>Randomly permute a sequence in place</td>\n",
    "        </tr>\n",
    "        <tr>\n",
    "            <td>uniform</td>\n",
    "            <td>Draw samples from a uniform distribution</td>\n",
    "        </tr>\n",
    "        <tr>\n",
    "            <td>integers</td>\n",
    "            <td>Draw random integers from a given low-to-high range</td>\n",
    "        </tr>\n",
    "        <tr>\n",
    "            <td>standard_normal</td>\n",
    "            <td>Draw samples from a normal distribution with mean 0 and standard deviation 1 </td>\n",
    "        </tr>\n",
    "        <tr>\n",
    "            <td>binomial</td>\n",
    "            <td>Draw samples from a binomial distribution</td>\n",
    "        </tr>\n",
    "        <tr>\n",
    "            <td>normal</td>\n",
    "            <td>Draw samples from a normal (Gaussian) distribution</td>\n",
    "        </tr>\n",
    "        <tr>\n",
    "            <td>beta</td>\n",
    "            <td>Draw samples from a beta distribution</td>\n",
    "        </tr>\n",
    "        <tr>\n",
    "            <td>chisquare</td>\n",
    "            <td>Draw samples from a chi-square distribution</td>\n",
    "        </tr>\n",
    "        <tr>\n",
    "            <td>gamma</td>\n",
    "            <td>Draw samples from a gamma distribution</td>\n",
    "        </tr>\n",
    "        <tr>\n",
    "            <td>uniform</td>\n",
    "            <td>Draw samples from a uniform [0, 1) distribution</td>\n",
    "        </tr>\n",
    "    </tbody>\n",
    "</table>"
   ]
  },
  {
   "cell_type": "code",
   "execution_count": 31,
   "id": "64a1cd68-4dd2-4518-8fc0-5d457515e382",
   "metadata": {},
   "outputs": [
    {
     "data": {
      "text/plain": [
       "array([1, 2, 3, 4, 5])"
      ]
     },
     "execution_count": 31,
     "metadata": {},
     "output_type": "execute_result"
    }
   ],
   "source": [
    "np.random.permutation([1, 2, 3, 4, 5]) # shuffle my list"
   ]
  },
  {
   "cell_type": "code",
   "execution_count": 34,
   "id": "ed20930a-3914-42af-8c35-fdfee9ef73c3",
   "metadata": {},
   "outputs": [
    {
     "data": {
      "text/plain": [
       "array([ 2,  6, 12,  5,  4, 11,  8, 10,  1,  0,  9,  3,  7], dtype=int32)"
      ]
     },
     "execution_count": 34,
     "metadata": {},
     "output_type": "execute_result"
    }
   ],
   "source": [
    "np.random.permutation(13) # from 0 to 13, integer numbers list"
   ]
  },
  {
   "cell_type": "code",
   "execution_count": 43,
   "id": "d01bfa60-17ad-48c5-b1ac-d17b9abee06b",
   "metadata": {},
   "outputs": [],
   "source": [
    "arr = np.random.shuffle([3, 4])"
   ]
  },
  {
   "cell_type": "code",
   "execution_count": 47,
   "id": "f7cb3dd9-d1b1-4114-bc1d-7f3422ce037e",
   "metadata": {},
   "outputs": [],
   "source": [
    "arr = np.array([3, 4, 5])\n",
    "np.random.shuffle(arr)"
   ]
  },
  {
   "cell_type": "code",
   "execution_count": 50,
   "id": "2b01c4ad-042a-4722-b127-70c22d43418b",
   "metadata": {},
   "outputs": [
    {
     "data": {
      "text/plain": [
       "array([4, 3, 5])"
      ]
     },
     "execution_count": 50,
     "metadata": {},
     "output_type": "execute_result"
    }
   ],
   "source": [
    "arr"
   ]
  },
  {
   "cell_type": "code",
   "execution_count": 61,
   "id": "4c82c83d-b5d4-456a-8a9c-81859d38eb40",
   "metadata": {},
   "outputs": [
    {
     "data": {
      "text/plain": [
       "3"
      ]
     },
     "execution_count": 61,
     "metadata": {},
     "output_type": "execute_result"
    }
   ],
   "source": [
    "np.random.randint(1, 13) # integers removed, instead randint"
   ]
  },
  {
   "cell_type": "code",
   "execution_count": 112,
   "id": "1f3122d4-8892-437f-a9b5-710c87bae07c",
   "metadata": {},
   "outputs": [
    {
     "data": {
      "text/plain": [
       "array([[ 1.04164811, -0.87992963, -0.0068801 ],\n",
       "       [ 0.41826806, -0.89486446,  1.14650931]])"
      ]
     },
     "execution_count": 112,
     "metadata": {},
     "output_type": "execute_result"
    }
   ],
   "source": [
    "np.random.standard_normal((2, 3))"
   ]
  },
  {
   "cell_type": "code",
   "execution_count": 102,
   "id": "13eb73f0-eae7-413a-9ce9-dc5532effce3",
   "metadata": {},
   "outputs": [
    {
     "data": {
      "text/plain": [
       "0"
      ]
     },
     "execution_count": 102,
     "metadata": {},
     "output_type": "execute_result"
    }
   ],
   "source": [
    "np.random.binomial(0.9, 0.1)"
   ]
  },
  {
   "cell_type": "code",
   "execution_count": 110,
   "id": "929e0718-0d24-426c-93bc-d3901ea531ef",
   "metadata": {},
   "outputs": [
    {
     "data": {
      "text/plain": [
       "array([1.65162333, 8.16341752, 6.80581712])"
      ]
     },
     "execution_count": 110,
     "metadata": {},
     "output_type": "execute_result"
    }
   ],
   "source": [
    "np.random.normal([1, 8, 6])"
   ]
  },
  {
   "cell_type": "code",
   "execution_count": 122,
   "id": "64692332-d302-4935-a89c-3b3bea45ae9b",
   "metadata": {},
   "outputs": [
    {
     "data": {
      "text/plain": [
       "0.5143787635974932"
      ]
     },
     "execution_count": 122,
     "metadata": {},
     "output_type": "execute_result"
    }
   ],
   "source": [
    "np.random.beta(4, 4)"
   ]
  },
  {
   "cell_type": "code",
   "execution_count": 147,
   "id": "a02ba4f1-e95b-44f8-8d49-4291ed500b58",
   "metadata": {},
   "outputs": [
    {
     "data": {
      "text/plain": [
       "array([0.25485653, 2.24887332, 0.99632514, 1.17895753, 0.02905427])"
      ]
     },
     "execution_count": 147,
     "metadata": {},
     "output_type": "execute_result"
    }
   ],
   "source": [
    "np.random.chisquare(1, 5)"
   ]
  },
  {
   "cell_type": "code",
   "execution_count": 160,
   "id": "ebee2a5e-877c-4b3d-84a3-96ad8f8addc3",
   "metadata": {},
   "outputs": [
    {
     "data": {
      "text/plain": [
       "array([ 0.97478261, 14.15022045])"
      ]
     },
     "execution_count": 160,
     "metadata": {},
     "output_type": "execute_result"
    }
   ],
   "source": [
    "np.random.gamma((3, 7))"
   ]
  },
  {
   "cell_type": "code",
   "execution_count": 182,
   "id": "54b887ef-6840-4370-b302-167843c69acb",
   "metadata": {},
   "outputs": [
    {
     "data": {
      "text/plain": [
       "array([2.99656642, 2.0529895 ])"
      ]
     },
     "execution_count": 182,
     "metadata": {},
     "output_type": "execute_result"
    }
   ],
   "source": [
    "np.random.uniform((3, 5))"
   ]
  },
  {
   "cell_type": "code",
   "execution_count": null,
   "id": "ba72e38b-cb21-4750-9c60-287a9ba8c98f",
   "metadata": {},
   "outputs": [],
   "source": []
  }
 ],
 "metadata": {
  "kernelspec": {
   "display_name": "Python (venv)",
   "language": "python",
   "name": "venv"
  },
  "language_info": {
   "codemirror_mode": {
    "name": "ipython",
    "version": 3
   },
   "file_extension": ".py",
   "mimetype": "text/x-python",
   "name": "python",
   "nbconvert_exporter": "python",
   "pygments_lexer": "ipython3",
   "version": "3.10.11"
  }
 },
 "nbformat": 4,
 "nbformat_minor": 5
}
